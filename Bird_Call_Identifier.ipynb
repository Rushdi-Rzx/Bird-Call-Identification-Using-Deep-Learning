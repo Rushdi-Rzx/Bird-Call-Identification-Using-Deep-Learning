{
  "nbformat": 4,
  "nbformat_minor": 0,
  "metadata": {
    "colab": {
      "provenance": [],
      "mount_file_id": "1dkIVEbcBMrscb7b4KUfaCUFZJIkIq7uN",
      "authorship_tag": "ABX9TyPh6YDo9L170yI5UunO7xpt",
      "include_colab_link": true
    },
    "kernelspec": {
      "name": "python3",
      "display_name": "Python 3"
    },
    "language_info": {
      "name": "python"
    }
  },
  "cells": [
    {
      "cell_type": "markdown",
      "metadata": {
        "id": "view-in-github",
        "colab_type": "text"
      },
      "source": [
        "<a href=\"https://colab.research.google.com/github/Rushdi-Rzx/Bird-Call-Identification-Using-Deep-Learning/blob/main/Bird_Call_Identifier.ipynb\" target=\"_parent\"><img src=\"https://colab.research.google.com/assets/colab-badge.svg\" alt=\"Open In Colab\"/></a>"
      ]
    },
    {
      "cell_type": "code",
      "source": [
        "# # Paths to the folders\n",
        "# brown_tinamou_path = '/content/drive/MyDrive/Bird/BrownTinamou'\n",
        "# cinereous_tinamou_path = '/content/drive/MyDrive/Bird/CinereousTinamou'\n",
        "# great_tinamou_path = '/content/drive/MyDrive/Bird/GreatTinamou'\n",
        "\n",
        "# #Load and Preprocess Data\n",
        "# def load_audio_files(folder_path):\n",
        "#     file_paths = [os.path.join(folder_path, f) for f in os.listdir(folder_path) if f.endswith('.mp3')]\n",
        "#     audio_data = []\n",
        "#     for file_path in tqdm(file_paths, desc=f'Loading {folder_path}'):\n",
        "#         y, sr = librosa.load(file_path, sr=None)\n",
        "#         audio_data.append((y, sr))\n",
        "#     return audio_data\n",
        "\n",
        "# # Load data for each class\n",
        "# brown_tinamou_audio = load_audio_files(brown_tinamou_path)\n",
        "# cinereous_tinamou_audio = load_audio_files(cinereous_tinamou_path)\n",
        "# great_tinamou_audio = load_audio_files(great_tinamou_path)\n",
        "\n",
        "# # Combine data and create labels\n",
        "# audio_data = brown_tinamou_audio + cinereous_tinamou_audio + great_tinamou_audio\n",
        "# labels = ['Brown Tinamou'] * len(brown_tinamou_audio) + ['Cinereous Tinamou'] * len(cinereous_tinamou_audio) + ['Great Tinamou'] * len(great_tinamou_audio)\n",
        "\n",
        "# # Plot bar graph for data distribution\n",
        "# label_counts = {\n",
        "#     'Brown Tinamou': len(brown_tinamou_audio),\n",
        "#     'Cinereous Tinamou': len(cinereous_tinamou_audio),\n",
        "#     'Great Tinamou': len(great_tinamou_audio)\n",
        "# }\n",
        "\n",
        "# plt.figure(figsize=(10, 5))\n",
        "# plt.bar(label_counts.keys(), label_counts.values(), color=['#ff9999','#66b3ff','#99ff99'])\n",
        "# plt.title('Number of Audio Files per Class')\n",
        "# plt.xlabel('Bird Species')\n",
        "# plt.ylabel('Number of Audio Files')\n",
        "# plt.show()\n",
        "\n",
        "# # Step 3: Data Augmentation (Example: Time Shifting)\n",
        "# def augment_audio(y, sr):\n",
        "#     shift = np.random.randint(low=-5, high=5) * 1000\n",
        "#     augmented_y = np.roll(y, shift)\n",
        "#     return augmented_y\n",
        "\n",
        "# # Step 4: Extract Features (MFCC Example)\n",
        "# def extract_features(y, sr, n_mfcc=13):\n",
        "#     mfccs = librosa.feature.mfcc(y=y, sr=sr, n_mfcc=n_mfcc)\n",
        "#     return mfccs\n",
        "\n",
        "# # Function to pad MFCC features\n",
        "# def pad_features(features, max_len):\n",
        "#     if features.shape[1] < max_len:\n",
        "#         pad_width = max_len - features.shape[1]\n",
        "#         features = np.pad(features, pad_width=((0, 0), (0, pad_width)), mode='constant')\n",
        "#     else:\n",
        "#         features = features[:, :max_len]\n",
        "#     return features\n",
        "\n",
        "# # Define the maximum length for padding\n",
        "# max_len = 500  # You can adjust this value based on your dataset\n",
        "\n",
        "# # Prepare dataset with augmented data\n",
        "# X, y = [], []\n",
        "# for i, (audio, sr) in enumerate(audio_data):\n",
        "#     features = extract_features(audio, sr)\n",
        "#     features = pad_features(features, max_len)\n",
        "#     X.append(features)\n",
        "#     y.append(labels[i])\n",
        "#     # Augment and add more samples\n",
        "#     for _ in range(2):  # Augment each audio file twice\n",
        "#         augmented_audio = augment_audio(audio, sr)\n",
        "#         features = extract_features(augmented_audio, sr)\n",
        "#         features = pad_features(features, max_len)\n",
        "#         X.append(features)\n",
        "#         y.append(labels[i])\n",
        "\n",
        "# # Convert lists to numpy arrays\n",
        "# X = np.array(X)\n",
        "# y = np.array(y)\n",
        "\n",
        "# # Encode labels\n",
        "# label_encoder = LabelEncoder()\n",
        "# y_encoded = label_encoder.fit_transform(y)\n",
        "\n",
        "# # Step 5: Split the Dataset\n",
        "# X_train, X_test, y_train, y_test = train_test_split(X, y_encoded, test_size=0.2, random_state=42, stratify=y_encoded)\n",
        "\n",
        "# # Step 6: Build and Train the Model\n",
        "# input_shape = (X_train.shape[1], X_train.shape[2], 1)  # Add channel dimension for CNN\n",
        "\n",
        "# # Define the model\n",
        "# model = models.Sequential([\n",
        "#     layers.Conv2D(32, (3, 3), activation='relu', input_shape=input_shape),\n",
        "#     layers.MaxPooling2D((2, 2)),\n",
        "#     layers.Conv2D(64, (3, 3), activation='relu'),\n",
        "#     layers.MaxPooling2D((2, 2)),\n",
        "#     layers.Flatten(),\n",
        "#     layers.Dense(128, activation='relu'),\n",
        "#     layers.Dense(len(label_encoder.classes_), activation='softmax')\n",
        "# ])\n",
        "\n",
        "# model.compile(optimizer='adam', loss='sparse_categorical_crossentropy', metrics=['accuracy'])\n",
        "\n",
        "# # Reshape data to fit the model\n",
        "# X_train = X_train[..., np.newaxis]\n",
        "# X_test = X_test[..., np.newaxis]\n",
        "\n",
        "# # Train the model\n",
        "# history = model.fit(X_train, y_train, epochs=10, validation_data=(X_test, y_test))\n",
        "\n",
        "# # Step 7: Evaluate the Model\n",
        "# test_loss, test_acc = model.evaluate(X_test, y_test)\n",
        "# print(f'Test accuracy: {test_acc}')\n",
        "\n",
        "# # Step 8: Save the Model\n",
        "# model.save('/content/drive/MyDrive/Bird/bird_species_classifier.h5')\n",
        "\n",
        "# # Convert .mp3 to .wav\n",
        "# def convert_mp3_to_wav(mp3_path, wav_path):\n",
        "#     audio = AudioSegment.from_mp3(mp3_path)\n",
        "#     audio.export(wav_path, format=\"wav\")\n",
        "\n",
        "# # Step 9: Inference Function\n",
        "# def predict_bird_species(audio_path):\n",
        "#     try:\n",
        "#         y, sr = librosa.load(audio_path, sr=None)\n",
        "#     except Exception as e:\n",
        "#         print(f\"Error loading {audio_path}: {e}\")\n",
        "#         return None\n",
        "\n",
        "#     features = extract_features(y, sr)\n",
        "#     features = pad_features(features, max_len)\n",
        "#     features = np.expand_dims(features, axis=0)\n",
        "#     features = features[..., np.newaxis]\n",
        "#     prediction = model.predict(features)\n",
        "#     predicted_class = np.argmax(prediction, axis=1)\n",
        "#     return label_encoder.inverse_transform(predicted_class)[0]\n",
        "\n"
      ],
      "metadata": {
        "id": "Xg05L4Crwgjz"
      },
      "execution_count": 87,
      "outputs": []
    },
    {
      "cell_type": "code",
      "source": [
        "# !pip install pydub\n",
        "# import os\n",
        "# import librosa\n",
        "# import numpy as np\n",
        "# import matplotlib.pyplot as plt\n",
        "# import tensorflow as tf\n",
        "# from tensorflow.keras import layers, models\n",
        "# from sklearn.model_selection import train_test_split\n",
        "# from sklearn.preprocessing import LabelEncoder\n",
        "# from tqdm import tqdm\n",
        "# from pydub import AudioSegment\n",
        "\n",
        "# # Paths to the folders\n",
        "# brown_tinamou_path = '/content/drive/MyDrive/Bird/BrownTinamou'\n",
        "# cinereous_tinamou_path = '/content/drive/MyDrive/Bird/CinereousTinamou'\n",
        "# great_tinamou_path = '/content/drive/MyDrive/Bird/GreatTinamou'\n",
        "\n",
        "# # Function to load audio files\n",
        "# def load_audio_files(folder_path):\n",
        "#     file_paths = [os.path.join(folder_path, f) for f in os.listdir(folder_path) if f.endswith(('.mp3', '.wav'))]\n",
        "#     audio_data = []\n",
        "#     for file_path in tqdm(file_paths, desc=f'Loading {folder_path}'):\n",
        "#         # Load .wav files directly, convert .mp3 files to .wav before loading\n",
        "#         if file_path.endswith('.mp3'):\n",
        "#             audio = AudioSegment.from_mp3(file_path)\n",
        "#             wav_path = file_path.replace('.mp3', '.wav')\n",
        "#             audio.export(wav_path, format=\"wav\")\n",
        "#             y, sr = librosa.load(wav_path, sr=None)\n",
        "#         else:\n",
        "#             y, sr = librosa.load(file_path, sr=None)\n",
        "#         audio_data.append((y, sr))\n",
        "#     return audio_data\n",
        "\n",
        "# # Load data for each class\n",
        "# brown_tinamou_audio = load_audio_files(brown_tinamou_path)\n",
        "# cinereous_tinamou_audio = load_audio_files(cinereous_tinamou_path)\n",
        "# great_tinamou_audio = load_audio_files(great_tinamou_path)\n",
        "\n",
        "# # Combine data and create labels\n",
        "# audio_data = brown_tinamou_audio + cinereous_tinamou_audio + great_tinamou_audio\n",
        "# labels = ['Brown Tinamou'] * len(brown_tinamou_audio) + ['Cinereous Tinamou'] * len(cinereous_tinamou_audio) + ['Great Tinamou'] * len(great_tinamou_audio)\n",
        "\n",
        "# # Plot bar graph for data distribution\n",
        "# label_counts = {\n",
        "#     'Brown Tinamou': len(brown_tinamou_audio),\n",
        "#     'Cinereous Tinamou': len(cinereous_tinamou_audio),\n",
        "#     'Great Tinamou': len(great_tinamou_audio)\n",
        "# }\n",
        "\n",
        "# plt.figure(figsize=(10, 5))\n",
        "# plt.bar(label_counts.keys(), label_counts.values(), color=['#ff9999','#66b3ff','#99ff99'])\n",
        "# plt.title('Number of Audio Files per Class')\n",
        "# plt.xlabel('Bird Species')\n",
        "# plt.ylabel('Number of Audio Files')\n",
        "# plt.show()\n",
        "\n",
        "# # Data Augmentation (Example: Time Shifting)\n",
        "# def augment_audio(y, sr):\n",
        "#     shift = np.random.randint(low=-5, high=5) * 1000\n",
        "#     augmented_y = np.roll(y, shift)\n",
        "#     return augmented_y\n",
        "\n",
        "# # Extract Features (MFCC Example)\n",
        "# def extract_features(y, sr, n_mfcc=13):\n",
        "#     mfccs = librosa.feature.mfcc(y=y, sr=sr, n_mfcc=n_mfcc)\n",
        "#     return mfccs\n",
        "\n",
        "# # Function to pad MFCC features\n",
        "# def pad_features(features, max_len):\n",
        "#     if features.shape[1] < max_len:\n",
        "#         pad_width = max_len - features.shape[1]\n",
        "#         features = np.pad(features, pad_width=((0, 0), (0, pad_width)), mode='constant')\n",
        "#     else:\n",
        "#         features = features[:, :max_len]\n",
        "#     return features\n",
        "\n",
        "# # Define the maximum length for padding\n",
        "# max_len = 500  # You can adjust this value based on your dataset\n",
        "\n",
        "# # Prepare dataset with augmented data\n",
        "# X, y = [], []\n",
        "# for i, (audio, sr) in enumerate(audio_data):\n",
        "#     features = extract_features(audio, sr)\n",
        "#     features = pad_features(features, max_len)\n",
        "#     X.append(features)\n",
        "#     y.append(labels[i])\n",
        "#     # Augment and add more samples\n",
        "#     for _ in range(2):  # Augment each audio file twice\n",
        "#         augmented_audio = augment_audio(audio, sr)\n",
        "#         features = extract_features(augmented_audio, sr)\n",
        "#         features = pad_features(features, max_len)\n",
        "#         X.append(features)\n",
        "#         y.append(labels[i])\n",
        "\n",
        "# # Convert lists to numpy arrays\n",
        "# X = np.array(X)\n",
        "# y = np.array(y)\n",
        "\n",
        "# # Encode labels\n",
        "# label_encoder = LabelEncoder()\n",
        "# y_encoded = label_encoder.fit_transform(y)\n",
        "\n",
        "# # Split the Dataset\n",
        "# X_train, X_test, y_train, y_test = train_test_split(X, y_encoded, test_size=0.2, random_state=42, stratify=y_encoded)\n",
        "\n",
        "# # Build and Train the Model\n",
        "# input_shape = (X_train.shape[1], X_train.shape[2], 1)  # Add channel dimension for CNN\n",
        "\n",
        "# # Define the model\n",
        "# model = models.Sequential([\n",
        "#     layers.Conv2D(32, (3, 3), activation='relu', input_shape=input_shape),\n",
        "#     layers.MaxPooling2D((2, 2)),\n",
        "#     layers.Conv2D(64, (3, 3), activation='relu'),\n",
        "#     layers.MaxPooling2D((2, 2)),\n",
        "#     layers.Flatten(),\n",
        "#     layers.Dense(128, activation='relu'),\n",
        "#     layers.Dense(len(label_encoder.classes_), activation='softmax')\n",
        "# ])\n",
        "\n",
        "# model.compile(optimizer='adam', loss='sparse_categorical_crossentropy', metrics=['accuracy'])\n",
        "\n",
        "# # Reshape data to fit the model\n",
        "# X_train = X_train[..., np.newaxis]\n",
        "# X_test = X_test[..., np.newaxis]\n",
        "\n",
        "# # Train the model\n",
        "# history = model.fit(X_train, y_train, epochs=10, validation_data=(X_test, y_test))\n",
        "\n",
        "# # Evaluate the Model\n",
        "# test_loss, test_acc = model.evaluate(X_test, y_test)\n",
        "# print(f'Test accuracy: {test_acc}')\n",
        "\n",
        "# # Save the Model\n",
        "# model.save('/content/drive/MyDrive/Bird/bird_species_classifier.h5')\n",
        "\n",
        "# # Plot training & validation accuracy values\n",
        "# plt.figure(figsize=(12, 4))\n",
        "\n",
        "# plt.subplot(1, 2, 1)\n",
        "# plt.plot(history.history['accuracy'])\n",
        "# plt.plot(history.history['val_accuracy'])\n",
        "# plt.title('Model Accuracy')\n",
        "# plt.ylabel('Accuracy')\n",
        "# plt.xlabel('Epoch')\n",
        "# plt.legend(['Train', 'Validation'], loc='upper left')\n",
        "\n",
        "# plt.subplot(1, 2, 2)\n",
        "# plt.plot(history.history['loss'])\n",
        "# plt.plot(history.history['val_loss'])\n",
        "# plt.title('Model Loss')\n",
        "# plt.ylabel('Loss')\n",
        "# plt.xlabel('Epoch')\n",
        "# plt.legend(['Train', 'Validation'], loc='upper left')\n",
        "\n",
        "# plt.tight_layout()\n",
        "# plt.show()\n",
        "\n",
        "# # Visualization of a waveform and MFCC features for a sample audio file\n",
        "# sample_audio, sample_sr = audio_data[0]\n",
        "# plt.figure(figsize=(14, 5))\n",
        "# plt.title('Waveform of a Sample Audio')\n",
        "# librosa.display.waveshow(sample_audio, sr=sample_sr)\n",
        "# plt.show()\n",
        "\n",
        "# mfccs = librosa.feature.mfcc(y=sample_audio, sr=sample_sr, n_mfcc=13)\n",
        "# plt.figure(figsize=(10, 4))\n",
        "# librosa.display.specshow(mfccs, sr=sample_sr, x_axis='time')\n",
        "# plt.colorbar()\n",
        "# plt.title('MFCC')\n",
        "# plt.tight_layout()\n",
        "# plt.show()\n",
        "\n",
        "# # Convert .mp3 to .wav\n",
        "# def convert_mp3_to_wav(mp3_path, wav_path):\n",
        "#     audio = AudioSegment.from_mp3(mp3_path)\n",
        "#     audio.export(wav_path, format=\"wav\")\n",
        "\n",
        "# # Inference Function\n",
        "# def predict_bird_species(audio_path):\n",
        "#     try:\n",
        "#         y, sr = librosa.load(audio_path, sr=None)\n",
        "#     except Exception as e:\n",
        "#         print(f\"Error loading {audio_path}: {e}\")\n",
        "#         return None\n",
        "\n",
        "#     features = extract_features(y, sr)\n",
        "#     features = pad_features(features, max_len)\n",
        "#     features = np.expand_dims(features, axis=0)\n",
        "#     features = features[..., np.newaxis]\n",
        "#     prediction = model.predict(features)\n",
        "#     predicted_class = np.argmax(prediction, axis=1)\n",
        "#     return label_encoder.inverse_transform(predicted_class)[0]\n",
        "\n",
        "# # Test the prediction function\n",
        "# print(predict_bird_species('/content/drive/MyDrive/Bird/BrownTinamou/sample.wav'))\n"
      ],
      "metadata": {
        "id": "7XGbj_Z6B8tG"
      },
      "execution_count": 88,
      "outputs": []
    },
    {
      "cell_type": "markdown",
      "source": [
        "# Load necessary libraries"
      ],
      "metadata": {
        "id": "rvJ_wTa8WOTN"
      }
    },
    {
      "cell_type": "code",
      "source": [
        "!pip install pydub"
      ],
      "metadata": {
        "id": "9BOxTn04WgKi",
        "colab": {
          "base_uri": "https://localhost:8080/"
        },
        "outputId": "d85ee5be-3747-4564-d189-0a5fdafdd455"
      },
      "execution_count": 89,
      "outputs": [
        {
          "output_type": "stream",
          "name": "stdout",
          "text": [
            "Requirement already satisfied: pydub in /usr/local/lib/python3.10/dist-packages (0.25.1)\n"
          ]
        }
      ]
    },
    {
      "cell_type": "code",
      "source": [
        "import os\n",
        "import librosa\n",
        "import numpy as np\n",
        "import matplotlib.pyplot as plt\n",
        "import tensorflow as tf\n",
        "from tensorflow.keras import layers, models\n",
        "from sklearn.model_selection import train_test_split\n",
        "from sklearn.preprocessing import LabelEncoder\n",
        "from tqdm import tqdm\n",
        "from pydub import AudioSegment\n",
        "from sklearn.metrics import classification_report\n",
        "from sklearn.metrics import confusion_matrix\n",
        "import seaborn as sns\n",
        "import matplotlib.pyplot as plt\n"
      ],
      "metadata": {
        "id": "zZ_MHv0DWei0"
      },
      "execution_count": 90,
      "outputs": []
    },
    {
      "cell_type": "markdown",
      "source": [
        "# Load and Prepocess Data"
      ],
      "metadata": {
        "id": "qdTIGreRWne1"
      }
    },
    {
      "cell_type": "markdown",
      "source": [
        "Paths to the folders"
      ],
      "metadata": {
        "id": "0qzOH0mMBgHu"
      }
    },
    {
      "cell_type": "code",
      "source": [
        "brown_tinamou_path = '/content/drive/MyDrive/Bird/BrownTinamou'\n",
        "cinereous_tinamou_path = '/content/drive/MyDrive/Bird/CinereousTinamou'\n",
        "great_tinamou_path = '/content/drive/MyDrive/Bird/GreatTinamou'"
      ],
      "metadata": {
        "id": "7tFTTRSRBipA"
      },
      "execution_count": 91,
      "outputs": []
    },
    {
      "cell_type": "markdown",
      "source": [
        "Load and Preprocess Data"
      ],
      "metadata": {
        "id": "XrnjYg6EBlSj"
      }
    },
    {
      "cell_type": "code",
      "source": [
        "def load_audio_files(folder_path):\n",
        "    file_paths = [os.path.join(folder_path, f) for f in os.listdir(folder_path) if f.endswith('.mp3')]\n",
        "    audio_data = []\n",
        "    for file_path in tqdm(file_paths, desc=f'Loading {folder_path}'):\n",
        "        y, sr = librosa.load(file_path, sr=None)\n",
        "        audio_data.append((y, sr))\n",
        "    return audio_data\n"
      ],
      "metadata": {
        "id": "2Q3Zp02dBpe7"
      },
      "execution_count": 92,
      "outputs": []
    },
    {
      "cell_type": "markdown",
      "source": [
        "Load data for each class"
      ],
      "metadata": {
        "id": "F1eB__OCBtWo"
      }
    },
    {
      "cell_type": "code",
      "source": [
        "brown_tinamou_audio = load_audio_files(brown_tinamou_path)\n",
        "cinereous_tinamou_audio = load_audio_files(cinereous_tinamou_path)\n",
        "great_tinamou_audio = load_audio_files(great_tinamou_path)"
      ],
      "metadata": {
        "colab": {
          "base_uri": "https://localhost:8080/"
        },
        "id": "qkFRKepSBwfM",
        "outputId": "9929b0ea-fe83-476c-d0ae-75ae38187f33"
      },
      "execution_count": 93,
      "outputs": [
        {
          "output_type": "stream",
          "name": "stderr",
          "text": [
            "Loading /content/drive/MyDrive/Bird/BrownTinamou: 100%|██████████| 40/40 [00:06<00:00,  6.24it/s]\n",
            "Loading /content/drive/MyDrive/Bird/CinereousTinamou: 100%|██████████| 40/40 [00:10<00:00,  3.98it/s]\n",
            "Loading /content/drive/MyDrive/Bird/GreatTinamou: 100%|██████████| 40/40 [00:09<00:00,  4.06it/s]\n"
          ]
        }
      ]
    },
    {
      "cell_type": "markdown",
      "source": [
        "Combine data and create labels"
      ],
      "metadata": {
        "id": "NgJ0KZcoBtLs"
      }
    },
    {
      "cell_type": "code",
      "source": [
        "audio_data = brown_tinamou_audio + cinereous_tinamou_audio + great_tinamou_audio\n",
        "labels = ['Brown Tinamou'] * len(brown_tinamou_audio) + ['Cinereous Tinamou'] * len(cinereous_tinamou_audio) + ['Great Tinamou'] * len(great_tinamou_audio)\n"
      ],
      "metadata": {
        "id": "GpGinTUxBxHI"
      },
      "execution_count": 94,
      "outputs": []
    },
    {
      "cell_type": "markdown",
      "source": [
        "Plot bar graph for data distribution"
      ],
      "metadata": {
        "id": "fVeAY0__Bs80"
      }
    },
    {
      "cell_type": "code",
      "source": [
        "label_counts = {\n",
        "    'Brown Tinamou': len(brown_tinamou_audio),\n",
        "    'Cinereous Tinamou': len(cinereous_tinamou_audio),\n",
        "    'Great Tinamou': len(great_tinamou_audio)\n",
        "}\n",
        "\n",
        "plt.figure(figsize=(10, 5))\n",
        "plt.bar(label_counts.keys(), label_counts.values(), color=['#ff9999','#66b3ff','#99ff99'])\n",
        "plt.title('Number of Audio Files per Class')\n",
        "plt.xlabel('Bird Species')\n",
        "plt.ylabel('Number of Audio Files')\n",
        "plt.show()\n"
      ],
      "metadata": {
        "colab": {
          "base_uri": "https://localhost:8080/",
          "height": 487
        },
        "id": "VydmS80MBxbm",
        "outputId": "b5319140-a514-4d3e-c36d-873d2291f23b"
      },
      "execution_count": 95,
      "outputs": [
        {
          "output_type": "display_data",
          "data": {
            "text/plain": [
              "<Figure size 1000x500 with 1 Axes>"
            ],
            "image/png": "[encoded data removed]"
          },
          "metadata": {}
        }
      ]
    },
    {
      "cell_type": "markdown",
      "source": [
        "# Data Augmentation"
      ],
      "metadata": {
        "id": "cBBK1BaYu5H2"
      }
    },
    {
      "cell_type": "code",
      "source": [
        "def augment_audio(y, sr):\n",
        "    shift = np.random.randint(low=-5, high=5) * 1000\n",
        "    augmented_y = np.roll(y, shift)\n",
        "    return augmented_y"
      ],
      "metadata": {
        "id": "_WtxDe3fu4kl"
      },
      "execution_count": 96,
      "outputs": []
    },
    {
      "cell_type": "markdown",
      "source": [
        "# Extracting Features (MFCC Example)"
      ],
      "metadata": {
        "id": "VpNMGZcmu7iM"
      }
    },
    {
      "cell_type": "code",
      "source": [
        "def extract_features(y, sr, n_mfcc=13):\n",
        "    mfccs = librosa.feature.mfcc(y=y, sr=sr, n_mfcc=n_mfcc)\n",
        "    return mfccs\n"
      ],
      "metadata": {
        "id": "APuF5dmXu7Jc"
      },
      "execution_count": 97,
      "outputs": []
    },
    {
      "cell_type": "markdown",
      "source": [
        "Function to pad MFCC features"
      ],
      "metadata": {
        "id": "q5ghiHxcvAr_"
      }
    },
    {
      "cell_type": "code",
      "source": [
        "def pad_features(features, max_len):\n",
        "    if features.shape[1] < max_len:\n",
        "        pad_width = max_len - features.shape[1]\n",
        "        features = np.pad(features, pad_width=((0, 0), (0, pad_width)), mode='constant')\n",
        "    else:\n",
        "        features = features[:, :max_len]\n",
        "    return features"
      ],
      "metadata": {
        "id": "8jdDrPcLvXYF"
      },
      "execution_count": 98,
      "outputs": []
    },
    {
      "cell_type": "markdown",
      "source": [
        "Define the maximum length for padding"
      ],
      "metadata": {
        "id": "Ne-NFhijvYgq"
      }
    },
    {
      "cell_type": "code",
      "source": [
        "max_len = 500"
      ],
      "metadata": {
        "id": "ea6H1r5svAQM"
      },
      "execution_count": 99,
      "outputs": []
    },
    {
      "cell_type": "markdown",
      "source": [
        "Prepare dataset with augmented data\n"
      ],
      "metadata": {
        "id": "GyJSNJetvjqW"
      }
    },
    {
      "cell_type": "code",
      "source": [
        "X, y = [], []\n",
        "for i, (audio, sr) in enumerate(audio_data):\n",
        "    features = extract_features(audio, sr)\n",
        "    features = pad_features(features, max_len)\n",
        "    X.append(features)\n",
        "    y.append(labels[i])\n",
        "    # Augment and add more samples\n",
        "    for _ in range(2):  # Augment each audio file twice\n",
        "        augmented_audio = augment_audio(audio, sr)\n",
        "        features = extract_features(augmented_audio, sr)\n",
        "        features = pad_features(features, max_len)\n",
        "        X.append(features)\n",
        "        y.append(labels[i])"
      ],
      "metadata": {
        "id": "kZK4nU_uvAI2"
      },
      "execution_count": 100,
      "outputs": []
    },
    {
      "cell_type": "markdown",
      "source": [
        "Convert lists to numpy arrays"
      ],
      "metadata": {
        "id": "p2VM7o5xvnQc"
      }
    },
    {
      "cell_type": "code",
      "source": [
        "X = np.array(X)\n",
        "y = np.array(y)"
      ],
      "metadata": {
        "id": "q2O7Q6vFvACq"
      },
      "execution_count": 101,
      "outputs": []
    },
    {
      "cell_type": "markdown",
      "source": [
        "Encode labels"
      ],
      "metadata": {
        "id": "hTza9Rw-vtYb"
      }
    },
    {
      "cell_type": "code",
      "source": [
        "label_encoder = LabelEncoder()\n",
        "y_encoded = label_encoder.fit_transform(y)"
      ],
      "metadata": {
        "id": "fRbVVC9Tu_1l"
      },
      "execution_count": 102,
      "outputs": []
    },
    {
      "cell_type": "markdown",
      "source": [
        "# Split the Dataset"
      ],
      "metadata": {
        "id": "XYn_j6WNv3oq"
      }
    },
    {
      "cell_type": "code",
      "source": [
        "X_train, X_test, y_train, y_test = train_test_split(X, y_encoded, test_size=0.2, random_state=42, stratify=y_encoded)"
      ],
      "metadata": {
        "id": "xtJVlJJsvuCO"
      },
      "execution_count": 103,
      "outputs": []
    },
    {
      "cell_type": "markdown",
      "source": [
        "# Build and Train the Model"
      ],
      "metadata": {
        "id": "X5BiKxfbv6gA"
      }
    },
    {
      "cell_type": "code",
      "source": [
        "input_shape = (X_train.shape[1], X_train.shape[2], 1)  # Add channel dimension for CNN"
      ],
      "metadata": {
        "id": "1pQnUTEsvuQu"
      },
      "execution_count": 104,
      "outputs": []
    },
    {
      "cell_type": "markdown",
      "source": [
        "Define the model"
      ],
      "metadata": {
        "id": "RNUOPT8gwCo4"
      }
    },
    {
      "cell_type": "code",
      "source": [
        "# model = models.Sequential([\n",
        "#     layers.Conv2D(32, (3, 3), activation='relu', input_shape=input_shape),\n",
        "#     layers.MaxPooling2D((2, 2)),\n",
        "#     layers.Conv2D(64, (3, 3), activation='relu'),\n",
        "#     layers.MaxPooling2D((2, 2)),\n",
        "#     layers.Flatten(),\n",
        "#     layers.Dense(128, activation='relu'),\n",
        "#     layers.Dense(len(label_encoder.classes_), activation='softmax')\n",
        "# ])\n",
        "\n",
        "# model.compile(optimizer='adam', loss='sparse_categorical_crossentropy', metrics=['accuracy'])"
      ],
      "metadata": {
        "id": "7gy40P1Iv7Hp"
      },
      "execution_count": 105,
      "outputs": []
    },
    {
      "cell_type": "code",
      "source": [
        "from tensorflow.keras import regularizers\n",
        "\n",
        "# Define the model with dropout and L2 regularization\n",
        "model = models.Sequential([\n",
        "    layers.Conv2D(32, (3, 3), activation='relu', input_shape=input_shape, kernel_regularizer=regularizers.l2(0.01)),\n",
        "    layers.MaxPooling2D((2, 2)),\n",
        "    layers.Dropout(0.5),  # Dropout with 50% rate\n",
        "\n",
        "    layers.Conv2D(64, (3, 3), activation='relu', kernel_regularizer=regularizers.l2(0.01)),\n",
        "    layers.MaxPooling2D((2, 2)),\n",
        "    layers.Dropout(0.5),  # Dropout with 50% rate\n",
        "\n",
        "    layers.Flatten(),\n",
        "    layers.Dense(128, activation='relu', kernel_regularizer=regularizers.l2(0.01)),\n",
        "    layers.Dropout(0.5),  # Dropout with 50% rate\n",
        "    layers.Dense(len(label_encoder.classes_), activation='softmax')\n",
        "])\n",
        "\n",
        "model.compile(optimizer='adam', loss='sparse_categorical_crossentropy', metrics=['accuracy'])\n"
      ],
      "metadata": {
        "id": "fpUJRjXhD2t6"
      },
      "execution_count": 106,
      "outputs": []
    },
    {
      "cell_type": "markdown",
      "source": [
        "Reshape data to fit the model"
      ],
      "metadata": {
        "id": "pd5IRR6cwHRB"
      }
    },
    {
      "cell_type": "code",
      "source": [
        "X_train = X_train[..., np.newaxis]\n",
        "X_test = X_test[..., np.newaxis]"
      ],
      "metadata": {
        "id": "8wUFJ9aEwGtx"
      },
      "execution_count": 107,
      "outputs": []
    },
    {
      "cell_type": "markdown",
      "source": [
        "Train the model"
      ],
      "metadata": {
        "id": "tROpeYSPwKYO"
      }
    },
    {
      "cell_type": "code",
      "source": [
        "# history = model.fit(X_train, y_train, epochs=10, validation_data=(X_test, y_test))"
      ],
      "metadata": {
        "id": "Ht6AhI84v7FD"
      },
      "execution_count": 108,
      "outputs": []
    },
    {
      "cell_type": "code",
      "source": [
        "from tensorflow.keras.callbacks import EarlyStopping\n",
        "\n",
        "early_stopping = EarlyStopping(monitor='val_loss', patience=5, restore_best_weights=True)\n",
        "\n",
        "# Train the model with early stopping\n",
        "history = model.fit(X_train, y_train, epochs=50, validation_data=(X_test, y_test), callbacks=[early_stopping])\n"
      ],
      "metadata": {
        "colab": {
          "base_uri": "https://localhost:8080/"
        },
        "id": "K5iqrPYWD8H8",
        "outputId": "50706be2-4ba5-4083-b034-3bc888412880"
      },
      "execution_count": 109,
      "outputs": [
        {
          "output_type": "stream",
          "name": "stdout",
          "text": [
            "Epoch 1/50\n",
            "9/9 [==============================] - 3s 212ms/step - loss: 123.4173 - accuracy: 0.3125 - val_loss: 9.6366 - val_accuracy: 0.3333\n",
            "Epoch 2/50\n",
            "9/9 [==============================] - 2s 176ms/step - loss: 16.4856 - accuracy: 0.4028 - val_loss: 4.2091 - val_accuracy: 0.3472\n",
            "Epoch 3/50\n",
            "9/9 [==============================] - 2s 174ms/step - loss: 6.7121 - accuracy: 0.4062 - val_loss: 4.0355 - val_accuracy: 0.2917\n",
            "Epoch 4/50\n",
            "9/9 [==============================] - 2s 284ms/step - loss: 4.8121 - accuracy: 0.4306 - val_loss: 4.0416 - val_accuracy: 0.4306\n",
            "Epoch 5/50\n",
            "9/9 [==============================] - 3s 334ms/step - loss: 4.2881 - accuracy: 0.4167 - val_loss: 3.9768 - val_accuracy: 0.5000\n",
            "Epoch 6/50\n",
            "9/9 [==============================] - 3s 321ms/step - loss: 4.1295 - accuracy: 0.4583 - val_loss: 3.9042 - val_accuracy: 0.5694\n",
            "Epoch 7/50\n",
            "9/9 [==============================] - 3s 281ms/step - loss: 4.0057 - accuracy: 0.4271 - val_loss: 3.8446 - val_accuracy: 0.5000\n",
            "Epoch 8/50\n",
            "9/9 [==============================] - 2s 186ms/step - loss: 3.9285 - accuracy: 0.4931 - val_loss: 3.8066 - val_accuracy: 0.5000\n",
            "Epoch 9/50\n",
            "9/9 [==============================] - 2s 186ms/step - loss: 3.9151 - accuracy: 0.5104 - val_loss: 3.7808 - val_accuracy: 0.4861\n",
            "Epoch 10/50\n",
            "9/9 [==============================] - 2s 183ms/step - loss: 3.8602 - accuracy: 0.5174 - val_loss: 3.7322 - val_accuracy: 0.5139\n",
            "Epoch 11/50\n",
            "9/9 [==============================] - 2s 186ms/step - loss: 3.8046 - accuracy: 0.5174 - val_loss: 3.6904 - val_accuracy: 0.5972\n",
            "Epoch 12/50\n",
            "9/9 [==============================] - 2s 177ms/step - loss: 3.6676 - accuracy: 0.6076 - val_loss: 3.6451 - val_accuracy: 0.5972\n",
            "Epoch 13/50\n",
            "9/9 [==============================] - 2s 210ms/step - loss: 3.6680 - accuracy: 0.6076 - val_loss: 3.6324 - val_accuracy: 0.6250\n",
            "Epoch 14/50\n",
            "9/9 [==============================] - 3s 290ms/step - loss: 3.5581 - accuracy: 0.6146 - val_loss: 3.5780 - val_accuracy: 0.5972\n",
            "Epoch 15/50\n",
            "9/9 [==============================] - 3s 284ms/step - loss: 3.5529 - accuracy: 0.6319 - val_loss: 3.5441 - val_accuracy: 0.5694\n",
            "Epoch 16/50\n",
            "9/9 [==============================] - 2s 176ms/step - loss: 3.5649 - accuracy: 0.6042 - val_loss: 3.5380 - val_accuracy: 0.6806\n",
            "Epoch 17/50\n",
            "9/9 [==============================] - 2s 182ms/step - loss: 3.4148 - accuracy: 0.7014 - val_loss: 3.5019 - val_accuracy: 0.6389\n",
            "Epoch 18/50\n",
            "9/9 [==============================] - 2s 185ms/step - loss: 3.3888 - accuracy: 0.6632 - val_loss: 3.4547 - val_accuracy: 0.6806\n",
            "Epoch 19/50\n",
            "9/9 [==============================] - 2s 183ms/step - loss: 3.3672 - accuracy: 0.6944 - val_loss: 3.4017 - val_accuracy: 0.7361\n",
            "Epoch 20/50\n",
            "9/9 [==============================] - 2s 184ms/step - loss: 3.3822 - accuracy: 0.6701 - val_loss: 3.3391 - val_accuracy: 0.7361\n",
            "Epoch 21/50\n",
            "9/9 [==============================] - 2s 185ms/step - loss: 3.3447 - accuracy: 0.6493 - val_loss: 3.2731 - val_accuracy: 0.7361\n",
            "Epoch 22/50\n",
            "9/9 [==============================] - 3s 293ms/step - loss: 3.3283 - accuracy: 0.6701 - val_loss: 3.2876 - val_accuracy: 0.7500\n",
            "Epoch 23/50\n",
            "9/9 [==============================] - 3s 291ms/step - loss: 3.2798 - accuracy: 0.6910 - val_loss: 3.2852 - val_accuracy: 0.7778\n",
            "Epoch 24/50\n",
            "9/9 [==============================] - 2s 175ms/step - loss: 3.2521 - accuracy: 0.6806 - val_loss: 3.2444 - val_accuracy: 0.7639\n",
            "Epoch 25/50\n",
            "9/9 [==============================] - 2s 173ms/step - loss: 3.2023 - accuracy: 0.6944 - val_loss: 3.3224 - val_accuracy: 0.8056\n",
            "Epoch 26/50\n",
            "9/9 [==============================] - 2s 175ms/step - loss: 3.1646 - accuracy: 0.6979 - val_loss: 3.1724 - val_accuracy: 0.7361\n",
            "Epoch 27/50\n",
            "9/9 [==============================] - 2s 176ms/step - loss: 3.1337 - accuracy: 0.7222 - val_loss: 3.1275 - val_accuracy: 0.7917\n",
            "Epoch 28/50\n",
            "9/9 [==============================] - 2s 186ms/step - loss: 3.0792 - accuracy: 0.7361 - val_loss: 3.0417 - val_accuracy: 0.8056\n",
            "Epoch 29/50\n",
            "9/9 [==============================] - 3s 354ms/step - loss: 3.0417 - accuracy: 0.7326 - val_loss: 2.9707 - val_accuracy: 0.8472\n",
            "Epoch 30/50\n",
            "9/9 [==============================] - 3s 382ms/step - loss: 2.9951 - accuracy: 0.7951 - val_loss: 3.0281 - val_accuracy: 0.8333\n",
            "Epoch 31/50\n",
            "9/9 [==============================] - 2s 241ms/step - loss: 3.0783 - accuracy: 0.7500 - val_loss: 2.9677 - val_accuracy: 0.7917\n",
            "Epoch 32/50\n",
            "9/9 [==============================] - 2s 172ms/step - loss: 2.9299 - accuracy: 0.7951 - val_loss: 2.9707 - val_accuracy: 0.8056\n",
            "Epoch 33/50\n",
            "9/9 [==============================] - 2s 182ms/step - loss: 2.9303 - accuracy: 0.8160 - val_loss: 2.8952 - val_accuracy: 0.8472\n",
            "Epoch 34/50\n",
            "9/9 [==============================] - 2s 180ms/step - loss: 2.8943 - accuracy: 0.7708 - val_loss: 2.8476 - val_accuracy: 0.8611\n",
            "Epoch 35/50\n",
            "9/9 [==============================] - 2s 178ms/step - loss: 2.8871 - accuracy: 0.8090 - val_loss: 2.8363 - val_accuracy: 0.8472\n",
            "Epoch 36/50\n",
            "9/9 [==============================] - 2s 173ms/step - loss: 2.9109 - accuracy: 0.7674 - val_loss: 2.8245 - val_accuracy: 0.8333\n",
            "Epoch 37/50\n",
            "9/9 [==============================] - 2s 215ms/step - loss: 2.8020 - accuracy: 0.8160 - val_loss: 2.7754 - val_accuracy: 0.8611\n",
            "Epoch 38/50\n",
            "9/9 [==============================] - 3s 306ms/step - loss: 2.8382 - accuracy: 0.8090 - val_loss: 2.7261 - val_accuracy: 0.8889\n",
            "Epoch 39/50\n",
            "9/9 [==============================] - 2s 264ms/step - loss: 2.7696 - accuracy: 0.8229 - val_loss: 2.7077 - val_accuracy: 0.9028\n",
            "Epoch 40/50\n",
            "9/9 [==============================] - 2s 172ms/step - loss: 2.6942 - accuracy: 0.8403 - val_loss: 2.6639 - val_accuracy: 0.9028\n",
            "Epoch 41/50\n",
            "9/9 [==============================] - 2s 173ms/step - loss: 2.7690 - accuracy: 0.8438 - val_loss: 2.6588 - val_accuracy: 0.8750\n",
            "Epoch 42/50\n",
            "9/9 [==============================] - 2s 175ms/step - loss: 2.7135 - accuracy: 0.8507 - val_loss: 2.6140 - val_accuracy: 0.9028\n",
            "Epoch 43/50\n",
            "9/9 [==============================] - 2s 181ms/step - loss: 2.6968 - accuracy: 0.8021 - val_loss: 2.5897 - val_accuracy: 0.8889\n",
            "Epoch 44/50\n",
            "9/9 [==============================] - 2s 181ms/step - loss: 2.6639 - accuracy: 0.8160 - val_loss: 2.5768 - val_accuracy: 0.9306\n",
            "Epoch 45/50\n",
            "9/9 [==============================] - 2s 177ms/step - loss: 2.6013 - accuracy: 0.8785 - val_loss: 2.5478 - val_accuracy: 0.8611\n",
            "Epoch 46/50\n",
            "9/9 [==============================] - 2s 284ms/step - loss: 2.6767 - accuracy: 0.8576 - val_loss: 2.5048 - val_accuracy: 0.9444\n",
            "Epoch 47/50\n",
            "9/9 [==============================] - 3s 310ms/step - loss: 2.5609 - accuracy: 0.8507 - val_loss: 2.5870 - val_accuracy: 0.9306\n",
            "Epoch 48/50\n",
            "9/9 [==============================] - 2s 174ms/step - loss: 2.5238 - accuracy: 0.8958 - val_loss: 2.6437 - val_accuracy: 0.8333\n",
            "Epoch 49/50\n",
            "9/9 [==============================] - 2s 180ms/step - loss: 2.5474 - accuracy: 0.8854 - val_loss: 2.6041 - val_accuracy: 0.8472\n",
            "Epoch 50/50\n",
            "9/9 [==============================] - 2s 174ms/step - loss: 2.4893 - accuracy: 0.8958 - val_loss: 2.5934 - val_accuracy: 0.8611\n"
          ]
        }
      ]
    },
    {
      "cell_type": "markdown",
      "source": [
        "# Evaluate the Model"
      ],
      "metadata": {
        "id": "n9KNTXHLwNfA"
      }
    },
    {
      "cell_type": "code",
      "source": [
        "test_loss, test_acc = model.evaluate(X_test, y_test)\n",
        "print(f'Test accuracy: {test_acc}')"
      ],
      "metadata": {
        "colab": {
          "base_uri": "https://localhost:8080/"
        },
        "id": "0AZ1neiIv7Cf",
        "outputId": "dc92ecac-5625-497f-f556-5003ef8eb14e"
      },
      "execution_count": 110,
      "outputs": [
        {
          "output_type": "stream",
          "name": "stdout",
          "text": [
            "3/3 [==============================] - 0s 28ms/step - loss: 2.5934 - accuracy: 0.8611\n",
            "Test accuracy: 0.8611111044883728\n"
          ]
        }
      ]
    },
    {
      "cell_type": "markdown",
      "source": [
        "Classification Report"
      ],
      "metadata": {
        "id": "q5Mlq1gqCTE6"
      }
    },
    {
      "cell_type": "code",
      "source": [
        "# Make predictions on the test set\n",
        "y_pred = model.predict(X_test)\n",
        "y_pred_class = np.argmax(y_pred, axis=1)\n",
        "\n",
        "# Decode the encoded labels back to original class names\n",
        "y_test_decoded = label_encoder.inverse_transform(y_test)\n",
        "y_pred_decoded = label_encoder.inverse_transform(y_pred_class)\n",
        "\n",
        "# Generate the classification report\n",
        "class_report = classification_report(y_test_decoded, y_pred_decoded)\n",
        "\n",
        "# Print the classification report\n",
        "print(class_report)"
      ],
      "metadata": {
        "colab": {
          "base_uri": "https://localhost:8080/"
        },
        "id": "BASyU9kHCQVH",
        "outputId": "64b3d36e-24d1-4a4a-bc8e-969aecb69792"
      },
      "execution_count": 111,
      "outputs": [
        {
          "output_type": "stream",
          "name": "stdout",
          "text": [
            "3/3 [==============================] - 0s 27ms/step\n",
            "                   precision    recall  f1-score   support\n",
            "\n",
            "    Brown Tinamou       0.92      0.92      0.92        24\n",
            "Cinereous Tinamou       0.83      0.83      0.83        24\n",
            "    Great Tinamou       0.83      0.83      0.83        24\n",
            "\n",
            "         accuracy                           0.86        72\n",
            "        macro avg       0.86      0.86      0.86        72\n",
            "     weighted avg       0.86      0.86      0.86        72\n",
            "\n"
          ]
        }
      ]
    },
    {
      "cell_type": "markdown",
      "source": [
        "Confusion Matrix"
      ],
      "metadata": {
        "id": "65pQfDSBCaJu"
      }
    },
    {
      "cell_type": "code",
      "source": [
        "conf_matrix = confusion_matrix(y_test_decoded, y_pred_decoded)\n",
        "\n",
        "# Plot the confusion matrix\n",
        "plt.figure(figsize=(8, 6))\n",
        "sns.heatmap(conf_matrix, annot=True, fmt='d', cmap='Blues', xticklabels=label_encoder.classes_, yticklabels=label_encoder.classes_)\n",
        "plt.xlabel('Predicted Labels')\n",
        "plt.ylabel('True Labels')\n",
        "plt.title('Confusion Matrix')\n",
        "plt.xticks(rotation=45)\n",
        "plt.yticks(rotation=45)\n",
        "plt.tight_layout()\n",
        "plt.show()"
      ],
      "metadata": {
        "colab": {
          "base_uri": "https://localhost:8080/",
          "height": 607
        },
        "id": "_epK7cYPCVIt",
        "outputId": "abe3154b-0e78-479e-f8e2-830444a4f4a9"
      },
      "execution_count": 112,
      "outputs": [
        {
          "output_type": "display_data",
          "data": {
            "text/plain": [
              "<Figure size 800x600 with 2 Axes>"
            ],
            "image/png": "[encoded data removed]"
          },
          "metadata": {}
        }
      ]
    },
    {
      "cell_type": "code",
      "source": [
        "import matplotlib.pyplot as plt\n",
        "\n",
        "# Plot training & validation accuracy values\n",
        "plt.plot(history.history['accuracy'])\n",
        "plt.plot(history.history['val_accuracy'])\n",
        "plt.title('Model accuracy')\n",
        "plt.xlabel('Epoch')\n",
        "plt.ylabel('Accuracy')\n",
        "plt.legend(['Train', 'Validation'], loc='upper left')\n",
        "plt.show()\n",
        "\n",
        "\n",
        "# Plot training & validation accuracy values\n",
        "plt.figure(figsize=(10, 5))\n",
        "plt.subplot(1, 2, 1)\n",
        "plt.plot(history.history['accuracy'])\n",
        "plt.plot(history.history['val_accuracy'])\n",
        "plt.title('Model Accuracy')\n",
        "plt.xlabel('Epoch')\n",
        "plt.ylabel('Accuracy')\n",
        "plt.legend(['Train', 'Validation'], loc='upper left')\n",
        "\n",
        "# Plot training & validation loss values\n",
        "plt.subplot(1, 2, 2)\n",
        "plt.plot(history.history['loss'])\n",
        "plt.plot(history.history['val_loss'])\n",
        "plt.title('Model Loss')\n",
        "plt.xlabel('Epoch')\n",
        "plt.ylabel('Loss')\n",
        "plt.legend(['Train', 'Validation'], loc='upper left')\n",
        "\n",
        "plt.tight_layout()\n",
        "plt.show()"
      ],
      "metadata": {
        "colab": {
          "base_uri": "https://localhost:8080/",
          "height": 962
        },
        "id": "sOKnnohgCnoA",
        "outputId": "0423b1b2-0bfc-4c4d-fe19-8f852ef2ae3c"
      },
      "execution_count": 113,
      "outputs": [
        {
          "output_type": "display_data",
          "data": {
            "text/plain": [
              "<Figure size 640x480 with 1 Axes>"
            ],
            "image/png": "[encoded data removed]"
          },
          "metadata": {}
        },
        {
          "output_type": "display_data",
          "data": {
            "text/plain": [
              "<Figure size 1000x500 with 2 Axes>"
            ],
            "image/png": "[encoded data removed]"
          },
          "metadata": {}
        }
      ]
    },
    {
      "cell_type": "markdown",
      "source": [
        "Save the Model"
      ],
      "metadata": {
        "id": "ltbQDciQwP9v"
      }
    },
    {
      "cell_type": "code",
      "source": [
        "model.save('/content/drive/MyDrive/Bird/bird_species_classifier.h5')"
      ],
      "metadata": {
        "colab": {
          "base_uri": "https://localhost:8080/"
        },
        "id": "-hNGubfkv62A",
        "outputId": "1e9dc6e1-b886-4564-de76-da1176b5bc18"
      },
      "execution_count": 114,
      "outputs": [
        {
          "output_type": "stream",
          "name": "stderr",
          "text": [
            "/usr/local/lib/python3.10/dist-packages/keras/src/engine/training.py:3103: UserWarning: You are saving your model as an HDF5 file via `model.save()`. This file format is considered legacy. We recommend using instead the native Keras format, e.g. `model.save('my_model.keras')`.\n",
            "  saving_api.save_model(\n"
          ]
        }
      ]
    },
    {
      "cell_type": "markdown",
      "source": [
        "Convert .mp3 to .wav"
      ],
      "metadata": {
        "id": "Q3XvorzWwTbY"
      }
    },
    {
      "cell_type": "code",
      "source": [
        "def convert_mp3_to_wav(mp3_path, wav_path):\n",
        "    audio = AudioSegment.from_mp3(mp3_path)\n",
        "    audio.export(wav_path, format=\"wav\")"
      ],
      "metadata": {
        "id": "4QgC-q0wwTJc"
      },
      "execution_count": 115,
      "outputs": []
    },
    {
      "cell_type": "markdown",
      "source": [
        "Inference Function"
      ],
      "metadata": {
        "id": "bQ4F23WNwXJi"
      }
    },
    {
      "cell_type": "code",
      "source": [
        "def predict_bird_species(audio_path):\n",
        "    try:\n",
        "        y, sr = librosa.load(audio_path, sr=None)\n",
        "    except Exception as e:\n",
        "        print(f\"Error loading {audio_path}: {e}\")\n",
        "        return None\n",
        "\n",
        "    features = extract_features(y, sr)\n",
        "    features = pad_features(features, max_len)\n",
        "    features = np.expand_dims(features, axis=0)\n",
        "    features = features[..., np.newaxis]\n",
        "    prediction = model.predict(features)\n",
        "    predicted_class = np.argmax(prediction, axis=1)\n",
        "    return label_encoder.inverse_transform(predicted_class)[0]"
      ],
      "metadata": {
        "id": "Rtvv8fH9wQh1"
      },
      "execution_count": 116,
      "outputs": []
    },
    {
      "cell_type": "markdown",
      "source": [
        "Example Usage of Inference Function"
      ],
      "metadata": {
        "id": "Q2UVMV_vDJsb"
      }
    },
    {
      "cell_type": "code",
      "source": [
        "# mp3_path = '/content/XC257242 - Cinereous Tinamou - Crypturellus cinereus.mp3'\n",
        "# # wav_path = '/content/drive/MyDrive/Bird/GreatTinamou/example.wav'\n",
        "# convert_mp3_to_wav(mp3_path, wav_path)\n",
        "\n",
        "# predicted_species = predict_bird_species(wav_path)\n",
        "# if predicted_species:\n",
        "#     print(f'Predicted bird species: {predicted_species}')\n",
        "# else:\n",
        "#     print('Prediction failed due to an error in loading the audio file.')"
      ],
      "metadata": {
        "id": "jvN4tyeaS_6n"
      },
      "execution_count": 117,
      "outputs": []
    },
    {
      "cell_type": "code",
      "source": [],
      "metadata": {
        "id": "fy4kSnH-VLjV"
      },
      "execution_count": 117,
      "outputs": []
    }
  ]
}